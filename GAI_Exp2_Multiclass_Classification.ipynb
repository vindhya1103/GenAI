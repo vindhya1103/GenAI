{
  "nbformat": 4,
  "nbformat_minor": 0,
  "metadata": {
    "colab": {
      "provenance": [],
      "include_colab_link": true
    },
    "kernelspec": {
      "display_name": "Python 3",
      "name": "python3"
    },
    "language_info": {
      "name": "python"
    }
  },
  "cells": [
    {
      "cell_type": "markdown",
      "metadata": {
        "id": "view-in-github",
        "colab_type": "text"
      },
      "source": [
        "<a href=\"https://colab.research.google.com/github/vindhya1103/GenAI/blob/main/GAI_Exp2_Multiclass_Classification.ipynb\" target=\"_parent\"><img src=\"https://colab.research.google.com/assets/colab-badge.svg\" alt=\"Open In Colab\"/></a>"
      ]
    },
    {
      "cell_type": "markdown",
      "metadata": {
        "id": "bftUhO1ea-bu"
      },
      "source": [
        "# Build an Artificial Neural Network to implement Multi-Class Classification task using the Back-propagation algorithm and test the same using appropriate data sets"
      ]
    },
    {
      "cell_type": "markdown",
      "metadata": {
        "id": "li34PiT3bODE"
      },
      "source": [
        "### Database\n",
        "* The data that will be incorporated is the **MNIST database** (Modified National Institute of Standards and Technology database) which contains 60,000 images for training and 10,000 test images.\n",
        "* The dataset consists of small square 28×28 pixel grayscale images of handwritten single digits between 0 and 9\n",
        "* The MNIST dataset is conveniently bundled within Keras, and we can easily analyze some of its features in Python."
      ]
    },
    {
      "cell_type": "code",
      "source": [
        "pip install matplotlib"
      ],
      "metadata": {
        "id": "eSZXa5-Y8xXM",
        "colab": {
          "base_uri": "https://localhost:8080/"
        },
        "outputId": "82cd6b80-5d3e-493a-d4a0-c93599e59acb"
      },
      "execution_count": 1,
      "outputs": [
        {
          "output_type": "stream",
          "name": "stdout",
          "text": [
            "Requirement already satisfied: matplotlib in /usr/local/lib/python3.10/dist-packages (3.7.1)\n",
            "Requirement already satisfied: contourpy>=1.0.1 in /usr/local/lib/python3.10/dist-packages (from matplotlib) (1.2.1)\n",
            "Requirement already satisfied: cycler>=0.10 in /usr/local/lib/python3.10/dist-packages (from matplotlib) (0.12.1)\n",
            "Requirement already satisfied: fonttools>=4.22.0 in /usr/local/lib/python3.10/dist-packages (from matplotlib) (4.53.0)\n",
            "Requirement already satisfied: kiwisolver>=1.0.1 in /usr/local/lib/python3.10/dist-packages (from matplotlib) (1.4.5)\n",
            "Requirement already satisfied: numpy>=1.20 in /usr/local/lib/python3.10/dist-packages (from matplotlib) (1.25.2)\n",
            "Requirement already satisfied: packaging>=20.0 in /usr/local/lib/python3.10/dist-packages (from matplotlib) (24.1)\n",
            "Requirement already satisfied: pillow>=6.2.0 in /usr/local/lib/python3.10/dist-packages (from matplotlib) (9.4.0)\n",
            "Requirement already satisfied: pyparsing>=2.3.1 in /usr/local/lib/python3.10/dist-packages (from matplotlib) (3.1.2)\n",
            "Requirement already satisfied: python-dateutil>=2.7 in /usr/local/lib/python3.10/dist-packages (from matplotlib) (2.8.2)\n",
            "Requirement already satisfied: six>=1.5 in /usr/local/lib/python3.10/dist-packages (from python-dateutil>=2.7->matplotlib) (1.16.0)\n"
          ]
        }
      ]
    },
    {
      "cell_type": "code",
      "metadata": {
        "colab": {
          "base_uri": "https://localhost:8080/"
        },
        "id": "ux2M9prha0XP",
        "outputId": "d395278c-91f8-4741-f76a-973f4917c769"
      },
      "source": [
        "from tensorflow import keras\n",
        "from keras.datasets import mnist     # MNIST dataset is included in Keras\n",
        "(X_train, y_train), (X_test, y_test) = mnist.load_data()\n",
        "\n",
        "print(\"X_train shape\", X_train.shape)\n",
        "print(\"y_train shape\", y_train.shape)\n",
        "print(\"X_test shape\", X_test.shape)\n",
        "print(\"y_test shape\", y_test.shape)"
      ],
      "execution_count": 2,
      "outputs": [
        {
          "output_type": "stream",
          "name": "stdout",
          "text": [
            "Downloading data from https://storage.googleapis.com/tensorflow/tf-keras-datasets/mnist.npz\n",
            "11490434/11490434 [==============================] - 0s 0us/step\n",
            "X_train shape (60000, 28, 28)\n",
            "y_train shape (60000,)\n",
            "X_test shape (10000, 28, 28)\n",
            "y_test shape (10000,)\n"
          ]
        }
      ]
    },
    {
      "cell_type": "code",
      "metadata": {
        "id": "04vC170obhb2",
        "colab": {
          "base_uri": "https://localhost:8080/",
          "height": 433
        },
        "outputId": "06b48b23-bb31-48ac-ac5d-3a0d696160b1"
      },
      "source": [
        "# Plot first few images\n",
        "import matplotlib.pyplot as plt\n",
        "for i in range(9):\n",
        "\t# define subplot\n",
        "\tplt.subplot(3,3,i+1) # 3 rows, 3 col, pos\n",
        "\t# plot raw pixel data\n",
        "\tplt.imshow(X_train[i], cmap='gray')\n",
        "# show the figure\n",
        "plt.show()"
      ],
      "execution_count": 3,
      "outputs": [
        {
          "output_type": "display_data",
          "data": {
            "text/plain": [
              "<Figure size 640x480 with 9 Axes>"
            ],
            "image/png": "[encoded data removed]"
          },
          "metadata": {}
        }
      ]
    },
    {
      "cell_type": "code",
      "metadata": {
        "id": "rhK5mMy7eKpM",
        "colab": {
          "base_uri": "https://localhost:8080/"
        },
        "outputId": "5537f6c8-3b3e-489d-c344-be586fcf21da"
      },
      "source": [
        "X_train[i].shape"
      ],
      "execution_count": 4,
      "outputs": [
        {
          "output_type": "execute_result",
          "data": {
            "text/plain": [
              "(28, 28)"
            ]
          },
          "metadata": {},
          "execution_count": 4
        }
      ]
    },
    {
      "cell_type": "code",
      "metadata": {
        "id": "H2hTIds6edP4",
        "colab": {
          "base_uri": "https://localhost:8080/",
          "height": 208
        },
        "outputId": "0d31cf16-6e16-48a0-c60f-7181f1719b85"
      },
      "source": [
        "# Each pixel is an 8-bit integer from 0-255 (0 is full black, 255 is full white)\n",
        "# single-channel pixel or monochrome image\n",
        "X_train[i][10:20,10:20]"
      ],
      "execution_count": 5,
      "outputs": [
        {
          "output_type": "execute_result",
          "data": {
            "text/plain": [
              "array([[  0,   0,  20, 254, 254, 108,   0,   0,   0,   0],\n",
              "       [  0,   0,  16, 239, 254, 143,   0,   0,   0,   0],\n",
              "       [  0,   0,   0, 178, 254, 143,   0,   0,   0,   0],\n",
              "       [  0,   0,   0, 178, 254, 143,   0,   0,   0,   0],\n",
              "       [  0,   0,   0, 178, 254, 162,   0,   0,   0,   0],\n",
              "       [  0,   0,   0, 178, 254, 240,   0,   0,   0,   0],\n",
              "       [  0,   0,   0, 113, 254, 240,   0,   0,   0,   0],\n",
              "       [  0,   0,   0,  83, 254, 245,  31,   0,   0,   0],\n",
              "       [  0,   0,   0,  79, 254, 246,  38,   0,   0,   0],\n",
              "       [  0,   0,   0,   0, 214, 254, 150,   0,   0,   0]], dtype=uint8)"
            ],
            "text/html": [
              "<style>\n",
              "      .ndarray_repr .ndarray_raw_data {\n",
              "        display: none;\n",
              "      }\n",
              "      .ndarray_repr.show_array .ndarray_raw_data {\n",
              "        display: block;\n",
              "      }\n",
              "      .ndarray_repr.show_array .ndarray_image_preview {\n",
              "        display: none;\n",
              "      }\n",
              "      </style>\n",
              "      <div id=\"id-fe92f33c-1a1a-4ebd-aa65-612ad4188ff9\" class=\"ndarray_repr\"><pre>ndarray (10, 10) <button style=\"padding: 0 2px;\">show data</button></pre><img src=\"data:image/png;base64,iVBORw0KGgoAAAANSUhEUgAAAAoAAAAKCAAAAACoWZBhAAAAQElEQVR4nGNgYBD59y+HgYGBgYmB4c9HBmUo88NhBgYoEwYgTGEE0w/G3I9Q8IiBVR7K/MPAyA7Te+3fNAYGBgDLQAvkXDu/swAAAABJRU5ErkJggg==\" class=\"ndarray_image_preview\" /><pre class=\"ndarray_raw_data\">array([[  0,   0,  20, 254, 254, 108,   0,   0,   0,   0],\n",
              "       [  0,   0,  16, 239, 254, 143,   0,   0,   0,   0],\n",
              "       [  0,   0,   0, 178, 254, 143,   0,   0,   0,   0],\n",
              "       [  0,   0,   0, 178, 254, 143,   0,   0,   0,   0],\n",
              "       [  0,   0,   0, 178, 254, 162,   0,   0,   0,   0],\n",
              "       [  0,   0,   0, 178, 254, 240,   0,   0,   0,   0],\n",
              "       [  0,   0,   0, 113, 254, 240,   0,   0,   0,   0],\n",
              "       [  0,   0,   0,  83, 254, 245,  31,   0,   0,   0],\n",
              "       [  0,   0,   0,  79, 254, 246,  38,   0,   0,   0],\n",
              "       [  0,   0,   0,   0, 214, 254, 150,   0,   0,   0]], dtype=uint8)</pre></div><script>\n",
              "      (() => {\n",
              "      const titles = ['show data', 'hide data'];\n",
              "      let index = 0\n",
              "      document.querySelector('#id-fe92f33c-1a1a-4ebd-aa65-612ad4188ff9 button').onclick = (e) => {\n",
              "        document.querySelector('#id-fe92f33c-1a1a-4ebd-aa65-612ad4188ff9').classList.toggle('show_array');\n",
              "        index = (++index) % 2;\n",
              "        document.querySelector('#id-fe92f33c-1a1a-4ebd-aa65-612ad4188ff9 button').textContent = titles[index];\n",
              "        e.preventDefault();\n",
              "        e.stopPropagation();\n",
              "      }\n",
              "      })();\n",
              "    </script>"
            ]
          },
          "metadata": {},
          "execution_count": 5
        }
      ]
    },
    {
      "cell_type": "markdown",
      "metadata": {
        "id": "RQ78uYy-eJ31"
      },
      "source": [
        "### Formatting the input data\n",
        "\n",
        "* Reshape (or flatten) the 28x28 image into a 784-length vector.\n",
        "\n",
        "\n",
        "<img src='https://github.com/AviatorMoser/keras-mnist-tutorial/blob/master/flatten.png?raw=1' width=50%>\n",
        "\n",
        "* Input values [0-255] are Normalized in the range [0-1]\n",
        "\n",
        "A `Min-Max Scaling` is typically done via the following equation:\n",
        "\n",
        "$$X_{norm} = \\frac{X_{i} - X_{min}}{X_{max} - X_{min}}$$\n",
        "\n",
        "$X_i$ is the $i^{th}$ sample of dataset."
      ]
    },
    {
      "cell_type": "code",
      "metadata": {
        "colab": {
          "base_uri": "https://localhost:8080/"
        },
        "id": "TmCWE0JCgEqF",
        "outputId": "d5f6a9b3-f5a4-4049-a7b5-c30749ecd5bd"
      },
      "source": [
        "# reshape 28 x 28 matrices into 784-length vectors\n",
        "X_train = X_train.reshape(60000, 784)\n",
        "X_test = X_test.reshape(10000, 784)\n",
        "\n",
        "# normalize each value for each pixel for the entire vector for each input\n",
        "# change integers to 32-bit floating point numbers\n",
        "X_train = X_train.astype('float32')\n",
        "X_test = X_test.astype('float32')\n",
        "# normalize by dividing by largest pixel value\n",
        "X_train /= 255\n",
        "X_test /= 255\n",
        "\n",
        "print(\"Training matrix shape\", X_train.shape)\n",
        "print(\"Testing matrix shape\", X_test.shape)"
      ],
      "execution_count": 6,
      "outputs": [
        {
          "output_type": "stream",
          "name": "stdout",
          "text": [
            "Training matrix shape (60000, 784)\n",
            "Testing matrix shape (10000, 784)\n"
          ]
        }
      ]
    },
    {
      "cell_type": "markdown",
      "metadata": {
        "id": "YI6eVl5Lbai2"
      },
      "source": [
        "### DNN for Multi-class classification using Keras library"
      ]
    },
    {
      "cell_type": "markdown",
      "metadata": {
        "id": "UhFBZ7iM09qf"
      },
      "source": [
        "#### Build the model\n",
        "\n",
        "helpful url: https://www.analyticsvidhya.com/blog/2021/06/mnist-dataset-prediction-using-keras/"
      ]
    },
    {
      "cell_type": "code",
      "metadata": {
        "id": "Qoi8YwzwoDGb"
      },
      "source": [
        "# Sequential keras model with Dense layes (DIY)\n",
        "\n",
        "from keras.models import Sequential  # Model type to be used\n",
        "from keras.layers import Dense # Types of layers to be used in our model\n",
        "\n",
        "mdl = Sequential()\n",
        "# Input layer with 64 units and relu activation\n",
        "mdl.add(Dense(64, input_dim=784, activation='relu'))\n",
        "# Hidden layer with 32 units and relu activation\n",
        "mdl.add(Dense(32, activation='relu'))\n",
        "# Output layer with 10 units and softmax activation\n",
        "mdl.add(Dense(10, activation='softmax'))\n",
        "# Compile model\n",
        "mdl.compile(optimizer='adam', loss='categorical_crossentropy', metrics=['accuracy'])"
      ],
      "execution_count": 9,
      "outputs": []
    },
    {
      "cell_type": "code",
      "metadata": {
        "id": "j4YE_vJZqf11",
        "colab": {
          "base_uri": "https://localhost:8080/",
          "height": 422
        },
        "outputId": "e0a025d8-744c-4431-df0e-898e82cbd9d9"
      },
      "source": [
        "# Visualize the model\n",
        "from keras.utils import plot_model\n",
        "plot_model(mdl, show_shapes=True, show_layer_names=False)"
      ],
      "execution_count": 11,
      "outputs": [
        {
          "output_type": "execute_result",
          "data": {
            "image/png": "[encoded data removed]",
            "text/plain": [
              "<IPython.core.display.Image object>"
            ]
          },
          "metadata": {},
          "execution_count": 11
        }
      ]
    },
    {
      "cell_type": "code",
      "metadata": {
        "id": "5aBXVjE6rRLy",
        "colab": {
          "base_uri": "https://localhost:8080/"
        },
        "outputId": "ed775c83-3b28-4c48-af46-7e3b85af67c1"
      },
      "source": [
        "# Display model summary\n",
        "mdl.summary()"
      ],
      "execution_count": 12,
      "outputs": [
        {
          "output_type": "stream",
          "name": "stdout",
          "text": [
            "Model: \"sequential\"\n",
            "_________________________________________________________________\n",
            " Layer (type)                Output Shape              Param #   \n",
            "=================================================================\n",
            " dense (Dense)               (None, 64)                50240     \n",
            "                                                                 \n",
            " dense_1 (Dense)             (None, 32)                2080      \n",
            "                                                                 \n",
            " dense_2 (Dense)             (None, 10)                330       \n",
            "                                                                 \n",
            "=================================================================\n",
            "Total params: 52650 (205.66 KB)\n",
            "Trainable params: 52650 (205.66 KB)\n",
            "Non-trainable params: 0 (0.00 Byte)\n",
            "_________________________________________________________________\n"
          ]
        }
      ]
    },
    {
      "cell_type": "code",
      "metadata": {
        "id": "h_PKfLomqvMO",
        "colab": {
          "base_uri": "https://localhost:8080/"
        },
        "outputId": "6445c0f7-7753-4dd2-bc1f-fa7adb78f665"
      },
      "source": [
        "#understand model summary\n",
        "784*64 + 64"
      ],
      "execution_count": 13,
      "outputs": [
        {
          "output_type": "execute_result",
          "data": {
            "text/plain": [
              "50240"
            ]
          },
          "metadata": {},
          "execution_count": 13
        }
      ]
    },
    {
      "cell_type": "code",
      "metadata": {
        "id": "VjDnaWoOqzP4",
        "colab": {
          "base_uri": "https://localhost:8080/"
        },
        "outputId": "7f0cd978-32c5-43cf-ad55-0041c049fd0b"
      },
      "source": [
        "64*32 + 32"
      ],
      "execution_count": 14,
      "outputs": [
        {
          "output_type": "execute_result",
          "data": {
            "text/plain": [
              "2080"
            ]
          },
          "metadata": {},
          "execution_count": 14
        }
      ]
    },
    {
      "cell_type": "code",
      "metadata": {
        "id": "zzJUFF_Vq1iJ",
        "colab": {
          "base_uri": "https://localhost:8080/"
        },
        "outputId": "49668c96-5360-493a-8cf3-80ce8b830b4e"
      },
      "source": [
        "32*10 + 10"
      ],
      "execution_count": 15,
      "outputs": [
        {
          "output_type": "execute_result",
          "data": {
            "text/plain": [
              "330"
            ]
          },
          "metadata": {},
          "execution_count": 15
        }
      ]
    },
    {
      "cell_type": "markdown",
      "metadata": {
        "id": "dUhkgMHOpmcD"
      },
      "source": [
        "#### Convert labels to \"one-hot\" vectors using the to_categorical function\n",
        "```\n",
        "0 -> [1, 0, 0, 0, 0, 0, 0, 0, 0]\n",
        "1 -> [0, 1, 0, 0, 0, 0, 0, 0, 0]\n",
        "2 -> [0, 0, 1, 0, 0, 0, 0, 0, 0]\n",
        "etc.\n",
        "```\n"
      ]
    },
    {
      "cell_type": "code",
      "metadata": {
        "id": "61gADurps2-6",
        "colab": {
          "base_uri": "https://localhost:8080/"
        },
        "outputId": "386750aa-b674-4ca8-dd2e-9b199a505ca7"
      },
      "source": [
        "from tensorflow.keras.utils import to_categorical\n",
        "y_train1 = to_categorical(y_train)\n",
        "y_test1 = to_categorical(y_test)\n",
        "print(y_test[6])\n",
        "print(y_test1[6,:])"
      ],
      "execution_count": 16,
      "outputs": [
        {
          "output_type": "stream",
          "name": "stdout",
          "text": [
            "4\n",
            "[0. 0. 0. 0. 1. 0. 0. 0. 0. 0.]\n"
          ]
        }
      ]
    },
    {
      "cell_type": "markdown",
      "metadata": {
        "id": "M2kveZpM1CuH"
      },
      "source": [
        "#### Train the model\n",
        "\n",
        "* If unspecified, by default batch_size=32\n",
        "* 60,000/64 = 938 minibatches\n",
        "* Reference: https://keras.io/api/models/model_training_apis/"
      ]
    },
    {
      "cell_type": "code",
      "metadata": {
        "id": "kqKL9A2mplQt",
        "colab": {
          "base_uri": "https://localhost:8080/"
        },
        "outputId": "12dd70b4-01da-445a-af96-a53547e8fae3"
      },
      "source": [
        "# Train the model\n",
        "epochs=10\n",
        "batch = 64\n",
        "history = mdl.fit(X_train, y_train1,epochs=epochs, batch_size=batch,verbose=1, validation_data=(X_test, y_test1))"
      ],
      "execution_count": 17,
      "outputs": [
        {
          "output_type": "stream",
          "name": "stdout",
          "text": [
            "Epoch 1/10\n",
            "938/938 [==============================] - 6s 5ms/step - loss: 0.3359 - accuracy: 0.9046 - val_loss: 0.1813 - val_accuracy: 0.9469\n",
            "Epoch 2/10\n",
            "938/938 [==============================] - 4s 4ms/step - loss: 0.1568 - accuracy: 0.9545 - val_loss: 0.1378 - val_accuracy: 0.9598\n",
            "Epoch 3/10\n",
            "938/938 [==============================] - 4s 4ms/step - loss: 0.1154 - accuracy: 0.9649 - val_loss: 0.1115 - val_accuracy: 0.9663\n",
            "Epoch 4/10\n",
            "938/938 [==============================] - 3s 3ms/step - loss: 0.0913 - accuracy: 0.9731 - val_loss: 0.1041 - val_accuracy: 0.9699\n",
            "Epoch 5/10\n",
            "938/938 [==============================] - 3s 3ms/step - loss: 0.0767 - accuracy: 0.9766 - val_loss: 0.0982 - val_accuracy: 0.9699\n",
            "Epoch 6/10\n",
            "938/938 [==============================] - 5s 5ms/step - loss: 0.0649 - accuracy: 0.9801 - val_loss: 0.0995 - val_accuracy: 0.9708\n",
            "Epoch 7/10\n",
            "938/938 [==============================] - 3s 4ms/step - loss: 0.0564 - accuracy: 0.9827 - val_loss: 0.0971 - val_accuracy: 0.9725\n",
            "Epoch 8/10\n",
            "938/938 [==============================] - 3s 4ms/step - loss: 0.0501 - accuracy: 0.9843 - val_loss: 0.0925 - val_accuracy: 0.9746\n",
            "Epoch 9/10\n",
            "938/938 [==============================] - 3s 3ms/step - loss: 0.0438 - accuracy: 0.9863 - val_loss: 0.0967 - val_accuracy: 0.9727\n",
            "Epoch 10/10\n",
            "938/938 [==============================] - 5s 5ms/step - loss: 0.0396 - accuracy: 0.9874 - val_loss: 0.1007 - val_accuracy: 0.9735\n"
          ]
        }
      ]
    },
    {
      "cell_type": "markdown",
      "source": [
        "# Evaluate Model"
      ],
      "metadata": {
        "id": "UjLK01ojX3AL"
      }
    },
    {
      "cell_type": "markdown",
      "source": [
        "### Plot Learning graphs"
      ],
      "metadata": {
        "id": "OKRq0gvledMR"
      }
    },
    {
      "cell_type": "code",
      "source": [
        "epochRange = range(1,epochs+1);\n",
        "plt.plot(epochRange,history.history['loss'])\n",
        "plt.plot(epochRange,history.history['val_loss'])\n",
        "plt.xlabel('Epoch')\n",
        "plt.ylabel('Loss')\n",
        "plt.grid()\n",
        "plt.xlim((1,epochs))\n",
        "plt.legend(['Train','Test'])\n",
        "plt.show()"
      ],
      "metadata": {
        "id": "I2w0Q9tQYM2v",
        "colab": {
          "base_uri": "https://localhost:8080/",
          "height": 454
        },
        "outputId": "8da55156-05cf-482f-ebc5-f9b7b92f785e"
      },
      "execution_count": 18,
      "outputs": [
        {
          "output_type": "display_data",
          "data": {
            "text/plain": [
              "<Figure size 640x480 with 1 Axes>"
            ],
            "image/png": "[encoded data removed]"
          },
          "metadata": {}
        }
      ]
    },
    {
      "cell_type": "code",
      "source": [
        "plt.plot(epochRange,history.history['accuracy'])\n",
        "plt.plot(epochRange,history.history['val_accuracy'])\n",
        "plt.xlabel('Epoch')\n",
        "plt.ylabel('Accuracy')\n",
        "plt.grid()\n",
        "plt.xlim((1,epochs))\n",
        "plt.legend(['Train','Test'])\n",
        "plt.show()"
      ],
      "metadata": {
        "id": "muvyVpWVYTJd",
        "colab": {
          "base_uri": "https://localhost:8080/",
          "height": 449
        },
        "outputId": "9c8f6fff-0674-429c-cca7-3ed91fe12c8f"
      },
      "execution_count": 19,
      "outputs": [
        {
          "output_type": "display_data",
          "data": {
            "text/plain": [
              "<Figure size 640x480 with 1 Axes>"
            ],
            "image/png": "[encoded data removed]"
          },
          "metadata": {}
        }
      ]
    },
    {
      "cell_type": "markdown",
      "metadata": {
        "id": "fkD4g_f8ug1-"
      },
      "source": [
        "#### Performance metrics"
      ]
    },
    {
      "cell_type": "code",
      "metadata": {
        "id": "zOpZRnD1uwwQ",
        "colab": {
          "base_uri": "https://localhost:8080/"
        },
        "outputId": "f99ca5b2-45f5-403e-980e-438b8a13424c"
      },
      "source": [
        "import numpy as np\n",
        "yhat_test_mdl_prob = mdl.predict(X_test);\n",
        "yhat_test_mdl = np.argmax(yhat_test_mdl_prob,axis=-1)\n",
        "print(yhat_test_mdl_prob[0])\n",
        "print(yhat_test_mdl[0:10])\n",
        "print(y_test[0:10])"
      ],
      "execution_count": 20,
      "outputs": [
        {
          "output_type": "stream",
          "name": "stdout",
          "text": [
            "313/313 [==============================] - 1s 3ms/step\n",
            "[2.6536673e-10 1.0935407e-09 1.2760498e-05 7.9920545e-05 2.8847770e-11\n",
            " 1.0768323e-07 1.6173790e-20 9.9990577e-01 7.0141748e-10 1.3945451e-06]\n",
            "[7 2 1 0 4 1 4 9 5 9]\n",
            "[7 2 1 0 4 1 4 9 5 9]\n"
          ]
        }
      ]
    },
    {
      "cell_type": "code",
      "metadata": {
        "id": "rOzEZlQsr-qC",
        "colab": {
          "base_uri": "https://localhost:8080/"
        },
        "outputId": "0be2e1ab-314e-4108-ee3f-27f90e3712cb"
      },
      "source": [
        "from sklearn.metrics import accuracy_score\n",
        "print('Accuracy:')\n",
        "print(float(accuracy_score(y_test, yhat_test_mdl))*100,'%')"
      ],
      "execution_count": 21,
      "outputs": [
        {
          "output_type": "stream",
          "name": "stdout",
          "text": [
            "Accuracy:\n",
            "97.35000000000001 %\n"
          ]
        }
      ]
    },
    {
      "cell_type": "code",
      "metadata": {
        "id": "4gTcSiVGsC1-",
        "colab": {
          "base_uri": "https://localhost:8080/"
        },
        "outputId": "825f2f5e-f80e-4061-d2d5-52aebe31a528"
      },
      "source": [
        "from sklearn.metrics import confusion_matrix\n",
        "print('Confusion Matrix:')\n",
        "print(confusion_matrix(y_test, yhat_test_mdl))"
      ],
      "execution_count": 22,
      "outputs": [
        {
          "output_type": "stream",
          "name": "stdout",
          "text": [
            "Confusion Matrix:\n",
            "[[ 971    1    0    0    1    3    2    1    1    0]\n",
            " [   0 1124    6    0    0    1    2    1    1    0]\n",
            " [   6    0 1013    3    1    1    1    5    2    0]\n",
            " [   0    1   12  974    0    7    0    6    2    8]\n",
            " [   1    0    6    0  954    1    4    2    0   14]\n",
            " [   2    0    0   17    1  858    6    2    3    3]\n",
            " [   8    3    3    1    5    5  933    0    0    0]\n",
            " [   1    5    9    2    1    0    0 1004    0    6]\n",
            " [   5    0    7    8    8    3    2    5  922   14]\n",
            " [   2    3    0    6    6    3    1    5    1  982]]\n"
          ]
        }
      ]
    },
    {
      "cell_type": "code",
      "source": [],
      "metadata": {
        "id": "Iur1oXoEvA1b"
      },
      "execution_count": null,
      "outputs": []
    }
  ]
}