{
  "nbformat": 4,
  "nbformat_minor": 0,
  "metadata": {
    "colab": {
      "provenance": [],
      "include_colab_link": true
    },
    "kernelspec": {
      "name": "python3",
      "display_name": "Python 3"
    }
  },
  "cells": [
    {
      "cell_type": "markdown",
      "metadata": {
        "id": "view-in-github",
        "colab_type": "text"
      },
      "source": [
        "<a href=\"https://colab.research.google.com/github/vindhya1103/GenAI/blob/main/GAI_Exp1_Binary_Classification.ipynb\" target=\"_parent\"><img src=\"https://colab.research.google.com/assets/colab-badge.svg\" alt=\"Open In Colab\"/></a>"
      ]
    },
    {
      "cell_type": "markdown",
      "metadata": {
        "id": "JbLj-OUKojSL"
      },
      "source": [
        "# **AIM: Build an Artificial Neural Network to implement Binary Classification task using the Back-propagation algorithm and test the same using appropriate data sets.**"
      ]
    },
    {
      "cell_type": "markdown",
      "metadata": {
        "id": "GAd5BOpNn1yb"
      },
      "source": [
        "# **Description**\n",
        "\n",
        "The data used here is : '**Pima Indians Diabetes Dataset**'. It is downloaded from : https://raw.githubusercontent.com/jbrownlee/Datasets/master/pima-indians-diabetes.csv\n",
        "\n",
        "It is a binary (2-class) classification problem. There are 768 observations with 8 input variables and 1 output variable.\n",
        "\n",
        "The variable names are as follows:\n",
        "\n",
        "**1. Number of times pregnant.**\n",
        "\n",
        "**2. Plasma glucose concentration a 2 hours in an oral glucose tolerance test.**\n",
        "\n",
        "**3. Diastolic blood pressure (mm Hg).**\n",
        "\n",
        "**4. Triceps skinfold thickness (mm).**\n",
        "\n",
        "**5. 2-Hour serum insulin (mu U/ml).**\n",
        "\n",
        "**6. Body mass index (weight in kg/(height in m)^2).**\n",
        "\n",
        "**7. Diabetes pedigree function.**\n",
        "\n",
        "**8. Age (years).**\n",
        "\n",
        "**9. Class variable (0 or 1).**\n"
      ]
    },
    {
      "cell_type": "markdown",
      "metadata": {
        "id": "c3pOyaANmimQ"
      },
      "source": [
        " # **Data Import and Processing**\n"
      ]
    },
    {
      "cell_type": "code",
      "metadata": {
        "id": "mwGyz6EwSRk5"
      },
      "source": [
        "import numpy as np\n",
        "import pandas as pd\n",
        "import matplotlib.pyplot as plt\n",
        "\n",
        "import sklearn"
      ],
      "execution_count": null,
      "outputs": []
    },
    {
      "cell_type": "code",
      "metadata": {
        "id": "-n1H04B-dX7O",
        "outputId": "02fb5e3a-0764-4ab8-efae-5bb9bd9c7a25",
        "colab": {
          "base_uri": "https://localhost:8080/"
        }
      },
      "source": [
        "# load data\n",
        "url = 'https://raw.githubusercontent.com/jbrownlee/Datasets/master/pima-indians-diabetes.csv'\n",
        "data_pd = pd.read_csv(url,header = None)\n",
        "print(data_pd.info())\n",
        "print(data_pd.head())"
      ],
      "execution_count": null,
      "outputs": [
        {
          "output_type": "stream",
          "name": "stdout",
          "text": [
            "<class 'pandas.core.frame.DataFrame'>\n",
            "RangeIndex: 768 entries, 0 to 767\n",
            "Data columns (total 9 columns):\n",
            " #   Column  Non-Null Count  Dtype  \n",
            "---  ------  --------------  -----  \n",
            " 0   0       768 non-null    int64  \n",
            " 1   1       768 non-null    int64  \n",
            " 2   2       768 non-null    int64  \n",
            " 3   3       768 non-null    int64  \n",
            " 4   4       768 non-null    int64  \n",
            " 5   5       768 non-null    float64\n",
            " 6   6       768 non-null    float64\n",
            " 7   7       768 non-null    int64  \n",
            " 8   8       768 non-null    int64  \n",
            "dtypes: float64(2), int64(7)\n",
            "memory usage: 54.1 KB\n",
            "None\n",
            "   0    1   2   3    4     5      6   7  8\n",
            "0  6  148  72  35    0  33.6  0.627  50  1\n",
            "1  1   85  66  29    0  26.6  0.351  31  0\n",
            "2  8  183  64   0    0  23.3  0.672  32  1\n",
            "3  1   89  66  23   94  28.1  0.167  21  0\n",
            "4  0  137  40  35  168  43.1  2.288  33  1\n"
          ]
        }
      ]
    },
    {
      "cell_type": "markdown",
      "source": [
        "StandardScaler: https://scikit-learn.org/stable/modules/generated/sklearn.preprocessing.StandardScaler.html"
      ],
      "metadata": {
        "id": "jsRaWD3y5CgE"
      }
    },
    {
      "cell_type": "code",
      "source": [
        "#Scaling Numerical columns\n",
        "from sklearn.preprocessing import StandardScaler\n",
        "std = StandardScaler()\n",
        "scaled = std.fit_transform(data_pd.iloc[:,0:8])\n",
        "scaled = pd.DataFrame(scaled)\n",
        "scaled.head()"
      ],
      "metadata": {
        "id": "qyy2Qp8uHNkQ",
        "outputId": "61fd304d-0618-4111-b158-df9855d730bc",
        "colab": {
          "base_uri": "https://localhost:8080/",
          "height": 206
        }
      },
      "execution_count": null,
      "outputs": [
        {
          "output_type": "execute_result",
          "data": {
            "text/plain": [
              "          0         1         2         3         4         5         6  \\\n",
              "0  0.639947  0.848324  0.149641  0.907270 -0.692891  0.204013  0.468492   \n",
              "1 -0.844885 -1.123396 -0.160546  0.530902 -0.692891 -0.684422 -0.365061   \n",
              "2  1.233880  1.943724 -0.263941 -1.288212 -0.692891 -1.103255  0.604397   \n",
              "3 -0.844885 -0.998208 -0.160546  0.154533  0.123302 -0.494043 -0.920763   \n",
              "4 -1.141852  0.504055 -1.504687  0.907270  0.765836  1.409746  5.484909   \n",
              "\n",
              "          7  \n",
              "0  1.425995  \n",
              "1 -0.190672  \n",
              "2 -0.105584  \n",
              "3 -1.041549  \n",
              "4 -0.020496  "
            ],
            "text/html": [
              "\n",
              "  <div id=\"df-47dde36e-2738-43e3-99c3-b3e3e4cc3c0e\" class=\"colab-df-container\">\n",
              "    <div>\n",
              "<style scoped>\n",
              "    .dataframe tbody tr th:only-of-type {\n",
              "        vertical-align: middle;\n",
              "    }\n",
              "\n",
              "    .dataframe tbody tr th {\n",
              "        vertical-align: top;\n",
              "    }\n",
              "\n",
              "    .dataframe thead th {\n",
              "        text-align: right;\n",
              "    }\n",
              "</style>\n",
              "<table border=\"1\" class=\"dataframe\">\n",
              "  <thead>\n",
              "    <tr style=\"text-align: right;\">\n",
              "      <th></th>\n",
              "      <th>0</th>\n",
              "      <th>1</th>\n",
              "      <th>2</th>\n",
              "      <th>3</th>\n",
              "      <th>4</th>\n",
              "      <th>5</th>\n",
              "      <th>6</th>\n",
              "      <th>7</th>\n",
              "    </tr>\n",
              "  </thead>\n",
              "  <tbody>\n",
              "    <tr>\n",
              "      <th>0</th>\n",
              "      <td>0.639947</td>\n",
              "      <td>0.848324</td>\n",
              "      <td>0.149641</td>\n",
              "      <td>0.907270</td>\n",
              "      <td>-0.692891</td>\n",
              "      <td>0.204013</td>\n",
              "      <td>0.468492</td>\n",
              "      <td>1.425995</td>\n",
              "    </tr>\n",
              "    <tr>\n",
              "      <th>1</th>\n",
              "      <td>-0.844885</td>\n",
              "      <td>-1.123396</td>\n",
              "      <td>-0.160546</td>\n",
              "      <td>0.530902</td>\n",
              "      <td>-0.692891</td>\n",
              "      <td>-0.684422</td>\n",
              "      <td>-0.365061</td>\n",
              "      <td>-0.190672</td>\n",
              "    </tr>\n",
              "    <tr>\n",
              "      <th>2</th>\n",
              "      <td>1.233880</td>\n",
              "      <td>1.943724</td>\n",
              "      <td>-0.263941</td>\n",
              "      <td>-1.288212</td>\n",
              "      <td>-0.692891</td>\n",
              "      <td>-1.103255</td>\n",
              "      <td>0.604397</td>\n",
              "      <td>-0.105584</td>\n",
              "    </tr>\n",
              "    <tr>\n",
              "      <th>3</th>\n",
              "      <td>-0.844885</td>\n",
              "      <td>-0.998208</td>\n",
              "      <td>-0.160546</td>\n",
              "      <td>0.154533</td>\n",
              "      <td>0.123302</td>\n",
              "      <td>-0.494043</td>\n",
              "      <td>-0.920763</td>\n",
              "      <td>-1.041549</td>\n",
              "    </tr>\n",
              "    <tr>\n",
              "      <th>4</th>\n",
              "      <td>-1.141852</td>\n",
              "      <td>0.504055</td>\n",
              "      <td>-1.504687</td>\n",
              "      <td>0.907270</td>\n",
              "      <td>0.765836</td>\n",
              "      <td>1.409746</td>\n",
              "      <td>5.484909</td>\n",
              "      <td>-0.020496</td>\n",
              "    </tr>\n",
              "  </tbody>\n",
              "</table>\n",
              "</div>\n",
              "    <div class=\"colab-df-buttons\">\n",
              "\n",
              "  <div class=\"colab-df-container\">\n",
              "    <button class=\"colab-df-convert\" onclick=\"convertToInteractive('df-47dde36e-2738-43e3-99c3-b3e3e4cc3c0e')\"\n",
              "            title=\"Convert this dataframe to an interactive table.\"\n",
              "            style=\"display:none;\">\n",
              "\n",
              "  <svg xmlns=\"http://www.w3.org/2000/svg\" height=\"24px\" viewBox=\"0 -960 960 960\">\n",
              "    <path d=\"M120-120v-720h720v720H120Zm60-500h600v-160H180v160Zm220 220h160v-160H400v160Zm0 220h160v-160H400v160ZM180-400h160v-160H180v160Zm440 0h160v-160H620v160ZM180-180h160v-160H180v160Zm440 0h160v-160H620v160Z\"/>\n",
              "  </svg>\n",
              "    </button>\n",
              "\n",
              "  <style>\n",
              "    .colab-df-container {\n",
              "      display:flex;\n",
              "      gap: 12px;\n",
              "    }\n",
              "\n",
              "    .colab-df-convert {\n",
              "      background-color: #E8F0FE;\n",
              "      border: none;\n",
              "      border-radius: 50%;\n",
              "      cursor: pointer;\n",
              "      display: none;\n",
              "      fill: #1967D2;\n",
              "      height: 32px;\n",
              "      padding: 0 0 0 0;\n",
              "      width: 32px;\n",
              "    }\n",
              "\n",
              "    .colab-df-convert:hover {\n",
              "      background-color: #E2EBFA;\n",
              "      box-shadow: 0px 1px 2px rgba(60, 64, 67, 0.3), 0px 1px 3px 1px rgba(60, 64, 67, 0.15);\n",
              "      fill: #174EA6;\n",
              "    }\n",
              "\n",
              "    .colab-df-buttons div {\n",
              "      margin-bottom: 4px;\n",
              "    }\n",
              "\n",
              "    [theme=dark] .colab-df-convert {\n",
              "      background-color: #3B4455;\n",
              "      fill: #D2E3FC;\n",
              "    }\n",
              "\n",
              "    [theme=dark] .colab-df-convert:hover {\n",
              "      background-color: #434B5C;\n",
              "      box-shadow: 0px 1px 3px 1px rgba(0, 0, 0, 0.15);\n",
              "      filter: drop-shadow(0px 1px 2px rgba(0, 0, 0, 0.3));\n",
              "      fill: #FFFFFF;\n",
              "    }\n",
              "  </style>\n",
              "\n",
              "    <script>\n",
              "      const buttonEl =\n",
              "        document.querySelector('#df-47dde36e-2738-43e3-99c3-b3e3e4cc3c0e button.colab-df-convert');\n",
              "      buttonEl.style.display =\n",
              "        google.colab.kernel.accessAllowed ? 'block' : 'none';\n",
              "\n",
              "      async function convertToInteractive(key) {\n",
              "        const element = document.querySelector('#df-47dde36e-2738-43e3-99c3-b3e3e4cc3c0e');\n",
              "        const dataTable =\n",
              "          await google.colab.kernel.invokeFunction('convertToInteractive',\n",
              "                                                    [key], {});\n",
              "        if (!dataTable) return;\n",
              "\n",
              "        const docLinkHtml = 'Like what you see? Visit the ' +\n",
              "          '<a target=\"_blank\" href=https://colab.research.google.com/notebooks/data_table.ipynb>data table notebook</a>'\n",
              "          + ' to learn more about interactive tables.';\n",
              "        element.innerHTML = '';\n",
              "        dataTable['output_type'] = 'display_data';\n",
              "        await google.colab.output.renderOutput(dataTable, element);\n",
              "        const docLink = document.createElement('div');\n",
              "        docLink.innerHTML = docLinkHtml;\n",
              "        element.appendChild(docLink);\n",
              "      }\n",
              "    </script>\n",
              "  </div>\n",
              "\n",
              "\n",
              "<div id=\"df-eafe571e-3e09-44ee-9d2b-eed73c56c791\">\n",
              "  <button class=\"colab-df-quickchart\" onclick=\"quickchart('df-eafe571e-3e09-44ee-9d2b-eed73c56c791')\"\n",
              "            title=\"Suggest charts\"\n",
              "            style=\"display:none;\">\n",
              "\n",
              "<svg xmlns=\"http://www.w3.org/2000/svg\" height=\"24px\"viewBox=\"0 0 24 24\"\n",
              "     width=\"24px\">\n",
              "    <g>\n",
              "        <path d=\"M19 3H5c-1.1 0-2 .9-2 2v14c0 1.1.9 2 2 2h14c1.1 0 2-.9 2-2V5c0-1.1-.9-2-2-2zM9 17H7v-7h2v7zm4 0h-2V7h2v10zm4 0h-2v-4h2v4z\"/>\n",
              "    </g>\n",
              "</svg>\n",
              "  </button>\n",
              "\n",
              "<style>\n",
              "  .colab-df-quickchart {\n",
              "      --bg-color: #E8F0FE;\n",
              "      --fill-color: #1967D2;\n",
              "      --hover-bg-color: #E2EBFA;\n",
              "      --hover-fill-color: #174EA6;\n",
              "      --disabled-fill-color: #AAA;\n",
              "      --disabled-bg-color: #DDD;\n",
              "  }\n",
              "\n",
              "  [theme=dark] .colab-df-quickchart {\n",
              "      --bg-color: #3B4455;\n",
              "      --fill-color: #D2E3FC;\n",
              "      --hover-bg-color: #434B5C;\n",
              "      --hover-fill-color: #FFFFFF;\n",
              "      --disabled-bg-color: #3B4455;\n",
              "      --disabled-fill-color: #666;\n",
              "  }\n",
              "\n",
              "  .colab-df-quickchart {\n",
              "    background-color: var(--bg-color);\n",
              "    border: none;\n",
              "    border-radius: 50%;\n",
              "    cursor: pointer;\n",
              "    display: none;\n",
              "    fill: var(--fill-color);\n",
              "    height: 32px;\n",
              "    padding: 0;\n",
              "    width: 32px;\n",
              "  }\n",
              "\n",
              "  .colab-df-quickchart:hover {\n",
              "    background-color: var(--hover-bg-color);\n",
              "    box-shadow: 0 1px 2px rgba(60, 64, 67, 0.3), 0 1px 3px 1px rgba(60, 64, 67, 0.15);\n",
              "    fill: var(--button-hover-fill-color);\n",
              "  }\n",
              "\n",
              "  .colab-df-quickchart-complete:disabled,\n",
              "  .colab-df-quickchart-complete:disabled:hover {\n",
              "    background-color: var(--disabled-bg-color);\n",
              "    fill: var(--disabled-fill-color);\n",
              "    box-shadow: none;\n",
              "  }\n",
              "\n",
              "  .colab-df-spinner {\n",
              "    border: 2px solid var(--fill-color);\n",
              "    border-color: transparent;\n",
              "    border-bottom-color: var(--fill-color);\n",
              "    animation:\n",
              "      spin 1s steps(1) infinite;\n",
              "  }\n",
              "\n",
              "  @keyframes spin {\n",
              "    0% {\n",
              "      border-color: transparent;\n",
              "      border-bottom-color: var(--fill-color);\n",
              "      border-left-color: var(--fill-color);\n",
              "    }\n",
              "    20% {\n",
              "      border-color: transparent;\n",
              "      border-left-color: var(--fill-color);\n",
              "      border-top-color: var(--fill-color);\n",
              "    }\n",
              "    30% {\n",
              "      border-color: transparent;\n",
              "      border-left-color: var(--fill-color);\n",
              "      border-top-color: var(--fill-color);\n",
              "      border-right-color: var(--fill-color);\n",
              "    }\n",
              "    40% {\n",
              "      border-color: transparent;\n",
              "      border-right-color: var(--fill-color);\n",
              "      border-top-color: var(--fill-color);\n",
              "    }\n",
              "    60% {\n",
              "      border-color: transparent;\n",
              "      border-right-color: var(--fill-color);\n",
              "    }\n",
              "    80% {\n",
              "      border-color: transparent;\n",
              "      border-right-color: var(--fill-color);\n",
              "      border-bottom-color: var(--fill-color);\n",
              "    }\n",
              "    90% {\n",
              "      border-color: transparent;\n",
              "      border-bottom-color: var(--fill-color);\n",
              "    }\n",
              "  }\n",
              "</style>\n",
              "\n",
              "  <script>\n",
              "    async function quickchart(key) {\n",
              "      const quickchartButtonEl =\n",
              "        document.querySelector('#' + key + ' button');\n",
              "      quickchartButtonEl.disabled = true;  // To prevent multiple clicks.\n",
              "      quickchartButtonEl.classList.add('colab-df-spinner');\n",
              "      try {\n",
              "        const charts = await google.colab.kernel.invokeFunction(\n",
              "            'suggestCharts', [key], {});\n",
              "      } catch (error) {\n",
              "        console.error('Error during call to suggestCharts:', error);\n",
              "      }\n",
              "      quickchartButtonEl.classList.remove('colab-df-spinner');\n",
              "      quickchartButtonEl.classList.add('colab-df-quickchart-complete');\n",
              "    }\n",
              "    (() => {\n",
              "      let quickchartButtonEl =\n",
              "        document.querySelector('#df-eafe571e-3e09-44ee-9d2b-eed73c56c791 button');\n",
              "      quickchartButtonEl.style.display =\n",
              "        google.colab.kernel.accessAllowed ? 'block' : 'none';\n",
              "    })();\n",
              "  </script>\n",
              "</div>\n",
              "\n",
              "    </div>\n",
              "  </div>\n"
            ]
          },
          "metadata": {},
          "execution_count": 3
        }
      ]
    },
    {
      "cell_type": "code",
      "source": [
        "X_data =scaled.to_numpy()\n",
        "print('X_data:',np.shape(X_data))\n",
        "Y_data = data_pd.iloc[:,8]\n",
        "print('Y_data:',np.shape(Y_data))"
      ],
      "metadata": {
        "id": "aSvqBd1jC0GW",
        "outputId": "a1b98795-4e8e-4cc4-b2e6-df5ebc928efb",
        "colab": {
          "base_uri": "https://localhost:8080/"
        }
      },
      "execution_count": null,
      "outputs": [
        {
          "output_type": "stream",
          "name": "stdout",
          "text": [
            "X_data: (768, 8)\n",
            "Y_data: (768,)\n"
          ]
        }
      ]
    },
    {
      "cell_type": "code",
      "metadata": {
        "id": "re5mYzfAdX2R"
      },
      "source": [
        "# Split data into X_train, X_test, y_train, y_test\n",
        "from sklearn.model_selection import train_test_split\n",
        "X_train, X_test, y_train, y_test = train_test_split(X_data, Y_data, test_size=0.25, random_state= 0)"
      ],
      "execution_count": null,
      "outputs": []
    },
    {
      "cell_type": "code",
      "metadata": {
        "id": "6XY9nsL8dXzm",
        "outputId": "0e2b1697-a520-46f3-a38e-8926bff56029",
        "colab": {
          "base_uri": "https://localhost:8080/"
        }
      },
      "source": [
        "# Check the dimension of the sets\n",
        "print('X_train:',np.shape(X_train))\n",
        "print('y_train:',np.shape(y_train))\n",
        "print('X_test:',np.shape(X_test))\n",
        "print('y_test:',np.shape(y_test))"
      ],
      "execution_count": null,
      "outputs": [
        {
          "output_type": "stream",
          "name": "stdout",
          "text": [
            "X_train: (576, 8)\n",
            "y_train: (576,)\n",
            "X_test: (192, 8)\n",
            "y_test: (192,)\n"
          ]
        }
      ]
    },
    {
      "cell_type": "markdown",
      "metadata": {
        "id": "5hDbfl4qm5Iq"
      },
      "source": [
        "# **Design the Model**"
      ]
    },
    {
      "cell_type": "code",
      "metadata": {
        "id": "lTOChYlGdXmu"
      },
      "source": [
        "import keras\n",
        "from keras.models import Sequential   # importing Sequential model\n",
        "from keras.layers import Dense        # importing Dense layers"
      ],
      "execution_count": null,
      "outputs": []
    },
    {
      "cell_type": "code",
      "metadata": {
        "id": "BRvrz_MLSfMd"
      },
      "source": [
        "# declaring model\n",
        "basic_model = Sequential()"
      ],
      "execution_count": null,
      "outputs": []
    },
    {
      "cell_type": "markdown",
      "source": [
        "Check Eg: https://github.com/urjeet/Pima-Diabetes-Keras-Model/blob/master/pima_diabetes_keras_model.py"
      ],
      "metadata": {
        "id": "yX8XB64P4IqQ"
      }
    },
    {
      "cell_type": "code",
      "metadata": {
        "id": "1uhibQNlWsPU"
      },
      "source": [
        "# Adding layers to the model (DIY)\n",
        "# First layers: 8 neurons/perceptrons that takes the input and uses 'sigmoid' activation function.\n",
        "basic_model.add(Dense(8, input_dim=8, activation='sigmoid'))\n",
        "# Second layers: 4 neurons/perceptrons, 'sigmoid' activation function.\n",
        "basic_model.add(Dense(4, activation='sigmoid'))\n",
        "# Final layer: 1 neuron/perceptron to do binary classification\n",
        "basic_model.add(Dense(1, activation='sigmoid'))"
      ],
      "execution_count": null,
      "outputs": []
    },
    {
      "cell_type": "code",
      "metadata": {
        "id": "1_pihhdiTlHR"
      },
      "source": [
        "# compiling the model (DIY)\n",
        "basic_model.compile(loss='binary_crossentropy', optimizer='adam', metrics=['accuracy'])"
      ],
      "execution_count": null,
      "outputs": []
    },
    {
      "cell_type": "markdown",
      "metadata": {
        "id": "1u-JSWmXnAqf"
      },
      "source": [
        "# **Train the Model**"
      ]
    },
    {
      "cell_type": "code",
      "metadata": {
        "id": "GvTzUK7OasqW",
        "outputId": "bf665fbf-5ee7-4609-c2fa-2c9d8c3c08fc",
        "colab": {
          "base_uri": "https://localhost:8080/"
        }
      },
      "source": [
        "# training the model\n",
        "epochs=120\n",
        "history = basic_model.fit(X_train, y_train, validation_data=(X_test, y_test), epochs=epochs)"
      ],
      "execution_count": null,
      "outputs": [
        {
          "output_type": "stream",
          "name": "stdout",
          "text": [
            "Epoch 1/120\n",
            "18/18 [==============================] - 2s 46ms/step - loss: 0.6790 - accuracy: 0.6424 - val_loss: 0.6697 - val_accuracy: 0.6771\n",
            "Epoch 2/120\n",
            "18/18 [==============================] - 0s 4ms/step - loss: 0.6713 - accuracy: 0.6424 - val_loss: 0.6610 - val_accuracy: 0.6771\n",
            "Epoch 3/120\n",
            "18/18 [==============================] - 0s 4ms/step - loss: 0.6650 - accuracy: 0.6424 - val_loss: 0.6538 - val_accuracy: 0.6771\n",
            "Epoch 4/120\n",
            "18/18 [==============================] - 0s 4ms/step - loss: 0.6598 - accuracy: 0.6424 - val_loss: 0.6476 - val_accuracy: 0.6771\n",
            "Epoch 5/120\n",
            "18/18 [==============================] - 0s 5ms/step - loss: 0.6557 - accuracy: 0.6424 - val_loss: 0.6418 - val_accuracy: 0.6771\n",
            "Epoch 6/120\n",
            "18/18 [==============================] - 0s 6ms/step - loss: 0.6519 - accuracy: 0.6424 - val_loss: 0.6371 - val_accuracy: 0.6771\n",
            "Epoch 7/120\n",
            "18/18 [==============================] - 0s 19ms/step - loss: 0.6487 - accuracy: 0.6424 - val_loss: 0.6338 - val_accuracy: 0.6771\n",
            "Epoch 8/120\n",
            "18/18 [==============================] - 0s 16ms/step - loss: 0.6462 - accuracy: 0.6424 - val_loss: 0.6298 - val_accuracy: 0.6771\n",
            "Epoch 9/120\n",
            "18/18 [==============================] - 0s 7ms/step - loss: 0.6438 - accuracy: 0.6424 - val_loss: 0.6266 - val_accuracy: 0.6771\n",
            "Epoch 10/120\n",
            "18/18 [==============================] - 0s 10ms/step - loss: 0.6415 - accuracy: 0.6424 - val_loss: 0.6244 - val_accuracy: 0.6771\n",
            "Epoch 11/120\n",
            "18/18 [==============================] - 0s 5ms/step - loss: 0.6396 - accuracy: 0.6424 - val_loss: 0.6216 - val_accuracy: 0.6771\n",
            "Epoch 12/120\n",
            "18/18 [==============================] - 0s 5ms/step - loss: 0.6376 - accuracy: 0.6424 - val_loss: 0.6191 - val_accuracy: 0.6771\n",
            "Epoch 13/120\n",
            "18/18 [==============================] - 0s 4ms/step - loss: 0.6357 - accuracy: 0.6424 - val_loss: 0.6170 - val_accuracy: 0.6771\n",
            "Epoch 14/120\n",
            "18/18 [==============================] - 0s 4ms/step - loss: 0.6338 - accuracy: 0.6424 - val_loss: 0.6144 - val_accuracy: 0.6771\n",
            "Epoch 15/120\n",
            "18/18 [==============================] - 0s 17ms/step - loss: 0.6317 - accuracy: 0.6424 - val_loss: 0.6125 - val_accuracy: 0.6771\n",
            "Epoch 16/120\n",
            "18/18 [==============================] - 0s 18ms/step - loss: 0.6297 - accuracy: 0.6424 - val_loss: 0.6103 - val_accuracy: 0.6771\n",
            "Epoch 17/120\n",
            "18/18 [==============================] - 0s 15ms/step - loss: 0.6276 - accuracy: 0.6424 - val_loss: 0.6078 - val_accuracy: 0.6771\n",
            "Epoch 18/120\n",
            "18/18 [==============================] - 0s 4ms/step - loss: 0.6254 - accuracy: 0.6424 - val_loss: 0.6055 - val_accuracy: 0.6771\n",
            "Epoch 19/120\n",
            "18/18 [==============================] - 0s 4ms/step - loss: 0.6231 - accuracy: 0.6424 - val_loss: 0.6031 - val_accuracy: 0.6771\n",
            "Epoch 20/120\n",
            "18/18 [==============================] - 0s 5ms/step - loss: 0.6207 - accuracy: 0.6424 - val_loss: 0.6006 - val_accuracy: 0.6771\n",
            "Epoch 21/120\n",
            "18/18 [==============================] - 0s 4ms/step - loss: 0.6183 - accuracy: 0.6424 - val_loss: 0.5980 - val_accuracy: 0.6771\n",
            "Epoch 22/120\n",
            "18/18 [==============================] - 0s 5ms/step - loss: 0.6156 - accuracy: 0.6424 - val_loss: 0.5954 - val_accuracy: 0.6771\n",
            "Epoch 23/120\n",
            "18/18 [==============================] - 0s 4ms/step - loss: 0.6130 - accuracy: 0.6424 - val_loss: 0.5925 - val_accuracy: 0.6771\n",
            "Epoch 24/120\n",
            "18/18 [==============================] - 0s 4ms/step - loss: 0.6102 - accuracy: 0.6424 - val_loss: 0.5897 - val_accuracy: 0.6771\n",
            "Epoch 25/120\n",
            "18/18 [==============================] - 0s 4ms/step - loss: 0.6072 - accuracy: 0.6424 - val_loss: 0.5868 - val_accuracy: 0.6771\n",
            "Epoch 26/120\n",
            "18/18 [==============================] - 0s 12ms/step - loss: 0.6042 - accuracy: 0.6424 - val_loss: 0.5836 - val_accuracy: 0.6771\n",
            "Epoch 27/120\n",
            "18/18 [==============================] - 0s 5ms/step - loss: 0.6010 - accuracy: 0.6424 - val_loss: 0.5805 - val_accuracy: 0.6771\n",
            "Epoch 28/120\n",
            "18/18 [==============================] - 0s 5ms/step - loss: 0.5977 - accuracy: 0.6424 - val_loss: 0.5773 - val_accuracy: 0.6771\n",
            "Epoch 29/120\n",
            "18/18 [==============================] - 0s 5ms/step - loss: 0.5945 - accuracy: 0.6424 - val_loss: 0.5738 - val_accuracy: 0.6771\n",
            "Epoch 30/120\n",
            "18/18 [==============================] - 0s 4ms/step - loss: 0.5909 - accuracy: 0.6424 - val_loss: 0.5704 - val_accuracy: 0.6771\n",
            "Epoch 31/120\n",
            "18/18 [==============================] - 0s 5ms/step - loss: 0.5875 - accuracy: 0.6406 - val_loss: 0.5665 - val_accuracy: 0.6771\n",
            "Epoch 32/120\n",
            "18/18 [==============================] - 0s 5ms/step - loss: 0.5837 - accuracy: 0.6424 - val_loss: 0.5629 - val_accuracy: 0.6667\n",
            "Epoch 33/120\n",
            "18/18 [==============================] - 0s 5ms/step - loss: 0.5800 - accuracy: 0.6615 - val_loss: 0.5591 - val_accuracy: 0.6927\n",
            "Epoch 34/120\n",
            "18/18 [==============================] - 0s 5ms/step - loss: 0.5763 - accuracy: 0.6701 - val_loss: 0.5554 - val_accuracy: 0.7135\n",
            "Epoch 35/120\n",
            "18/18 [==============================] - 0s 7ms/step - loss: 0.5725 - accuracy: 0.6962 - val_loss: 0.5516 - val_accuracy: 0.7448\n",
            "Epoch 36/120\n",
            "18/18 [==============================] - 0s 6ms/step - loss: 0.5686 - accuracy: 0.7101 - val_loss: 0.5477 - val_accuracy: 0.7448\n",
            "Epoch 37/120\n",
            "18/18 [==============================] - 0s 6ms/step - loss: 0.5650 - accuracy: 0.7188 - val_loss: 0.5438 - val_accuracy: 0.7396\n",
            "Epoch 38/120\n",
            "18/18 [==============================] - 0s 5ms/step - loss: 0.5613 - accuracy: 0.7257 - val_loss: 0.5400 - val_accuracy: 0.7552\n",
            "Epoch 39/120\n",
            "18/18 [==============================] - 0s 5ms/step - loss: 0.5578 - accuracy: 0.7257 - val_loss: 0.5360 - val_accuracy: 0.7604\n",
            "Epoch 40/120\n",
            "18/18 [==============================] - 0s 5ms/step - loss: 0.5541 - accuracy: 0.7396 - val_loss: 0.5324 - val_accuracy: 0.7708\n",
            "Epoch 41/120\n",
            "18/18 [==============================] - 0s 5ms/step - loss: 0.5506 - accuracy: 0.7517 - val_loss: 0.5288 - val_accuracy: 0.7708\n",
            "Epoch 42/120\n",
            "18/18 [==============================] - 0s 5ms/step - loss: 0.5472 - accuracy: 0.7552 - val_loss: 0.5254 - val_accuracy: 0.7604\n",
            "Epoch 43/120\n",
            "18/18 [==============================] - 0s 5ms/step - loss: 0.5442 - accuracy: 0.7604 - val_loss: 0.5218 - val_accuracy: 0.7500\n",
            "Epoch 44/120\n",
            "18/18 [==============================] - 0s 5ms/step - loss: 0.5408 - accuracy: 0.7604 - val_loss: 0.5185 - val_accuracy: 0.7500\n",
            "Epoch 45/120\n",
            "18/18 [==============================] - 0s 7ms/step - loss: 0.5380 - accuracy: 0.7587 - val_loss: 0.5152 - val_accuracy: 0.7552\n",
            "Epoch 46/120\n",
            "18/18 [==============================] - 0s 6ms/step - loss: 0.5351 - accuracy: 0.7552 - val_loss: 0.5123 - val_accuracy: 0.7604\n",
            "Epoch 47/120\n",
            "18/18 [==============================] - 0s 6ms/step - loss: 0.5324 - accuracy: 0.7552 - val_loss: 0.5093 - val_accuracy: 0.7604\n",
            "Epoch 48/120\n",
            "18/18 [==============================] - 0s 5ms/step - loss: 0.5297 - accuracy: 0.7587 - val_loss: 0.5063 - val_accuracy: 0.7552\n",
            "Epoch 49/120\n",
            "18/18 [==============================] - 0s 6ms/step - loss: 0.5272 - accuracy: 0.7656 - val_loss: 0.5036 - val_accuracy: 0.7604\n",
            "Epoch 50/120\n",
            "18/18 [==============================] - 0s 5ms/step - loss: 0.5249 - accuracy: 0.7656 - val_loss: 0.5008 - val_accuracy: 0.7656\n",
            "Epoch 51/120\n",
            "18/18 [==============================] - 0s 5ms/step - loss: 0.5226 - accuracy: 0.7639 - val_loss: 0.4986 - val_accuracy: 0.7604\n",
            "Epoch 52/120\n",
            "18/18 [==============================] - 0s 7ms/step - loss: 0.5205 - accuracy: 0.7639 - val_loss: 0.4961 - val_accuracy: 0.7604\n",
            "Epoch 53/120\n",
            "18/18 [==============================] - 0s 7ms/step - loss: 0.5184 - accuracy: 0.7639 - val_loss: 0.4938 - val_accuracy: 0.7604\n",
            "Epoch 54/120\n",
            "18/18 [==============================] - 0s 8ms/step - loss: 0.5165 - accuracy: 0.7622 - val_loss: 0.4916 - val_accuracy: 0.7552\n",
            "Epoch 55/120\n",
            "18/18 [==============================] - 0s 5ms/step - loss: 0.5146 - accuracy: 0.7622 - val_loss: 0.4897 - val_accuracy: 0.7552\n",
            "Epoch 56/120\n",
            "18/18 [==============================] - 0s 5ms/step - loss: 0.5129 - accuracy: 0.7674 - val_loss: 0.4875 - val_accuracy: 0.7604\n",
            "Epoch 57/120\n",
            "18/18 [==============================] - 0s 5ms/step - loss: 0.5112 - accuracy: 0.7639 - val_loss: 0.4857 - val_accuracy: 0.7604\n",
            "Epoch 58/120\n",
            "18/18 [==============================] - 0s 5ms/step - loss: 0.5098 - accuracy: 0.7639 - val_loss: 0.4839 - val_accuracy: 0.7656\n",
            "Epoch 59/120\n",
            "18/18 [==============================] - 0s 5ms/step - loss: 0.5084 - accuracy: 0.7639 - val_loss: 0.4821 - val_accuracy: 0.7656\n",
            "Epoch 60/120\n",
            "18/18 [==============================] - 0s 5ms/step - loss: 0.5069 - accuracy: 0.7656 - val_loss: 0.4805 - val_accuracy: 0.7708\n",
            "Epoch 61/120\n",
            "18/18 [==============================] - 0s 5ms/step - loss: 0.5055 - accuracy: 0.7639 - val_loss: 0.4792 - val_accuracy: 0.7708\n",
            "Epoch 62/120\n",
            "18/18 [==============================] - 0s 5ms/step - loss: 0.5043 - accuracy: 0.7639 - val_loss: 0.4779 - val_accuracy: 0.7708\n",
            "Epoch 63/120\n",
            "18/18 [==============================] - 0s 5ms/step - loss: 0.5031 - accuracy: 0.7639 - val_loss: 0.4765 - val_accuracy: 0.7760\n",
            "Epoch 64/120\n",
            "18/18 [==============================] - 0s 7ms/step - loss: 0.5020 - accuracy: 0.7691 - val_loss: 0.4752 - val_accuracy: 0.7760\n",
            "Epoch 65/120\n",
            "18/18 [==============================] - 0s 6ms/step - loss: 0.5009 - accuracy: 0.7691 - val_loss: 0.4739 - val_accuracy: 0.7812\n",
            "Epoch 66/120\n",
            "18/18 [==============================] - 0s 9ms/step - loss: 0.4998 - accuracy: 0.7691 - val_loss: 0.4728 - val_accuracy: 0.7812\n",
            "Epoch 67/120\n",
            "18/18 [==============================] - 0s 8ms/step - loss: 0.4990 - accuracy: 0.7726 - val_loss: 0.4715 - val_accuracy: 0.7812\n",
            "Epoch 68/120\n",
            "18/18 [==============================] - 0s 9ms/step - loss: 0.4980 - accuracy: 0.7726 - val_loss: 0.4707 - val_accuracy: 0.7812\n",
            "Epoch 69/120\n",
            "18/18 [==============================] - 0s 8ms/step - loss: 0.4973 - accuracy: 0.7726 - val_loss: 0.4695 - val_accuracy: 0.7812\n",
            "Epoch 70/120\n",
            "18/18 [==============================] - 0s 8ms/step - loss: 0.4964 - accuracy: 0.7743 - val_loss: 0.4686 - val_accuracy: 0.7812\n",
            "Epoch 71/120\n",
            "18/18 [==============================] - 0s 9ms/step - loss: 0.4957 - accuracy: 0.7708 - val_loss: 0.4676 - val_accuracy: 0.7812\n",
            "Epoch 72/120\n",
            "18/18 [==============================] - 0s 10ms/step - loss: 0.4949 - accuracy: 0.7726 - val_loss: 0.4669 - val_accuracy: 0.7812\n",
            "Epoch 73/120\n",
            "18/18 [==============================] - 0s 10ms/step - loss: 0.4942 - accuracy: 0.7760 - val_loss: 0.4661 - val_accuracy: 0.7812\n",
            "Epoch 74/120\n",
            "18/18 [==============================] - 0s 7ms/step - loss: 0.4936 - accuracy: 0.7743 - val_loss: 0.4656 - val_accuracy: 0.7760\n",
            "Epoch 75/120\n",
            "18/18 [==============================] - 0s 6ms/step - loss: 0.4928 - accuracy: 0.7726 - val_loss: 0.4648 - val_accuracy: 0.7760\n",
            "Epoch 76/120\n",
            "18/18 [==============================] - 0s 8ms/step - loss: 0.4923 - accuracy: 0.7743 - val_loss: 0.4640 - val_accuracy: 0.7760\n",
            "Epoch 77/120\n",
            "18/18 [==============================] - 0s 11ms/step - loss: 0.4917 - accuracy: 0.7760 - val_loss: 0.4635 - val_accuracy: 0.7760\n",
            "Epoch 78/120\n",
            "18/18 [==============================] - 0s 15ms/step - loss: 0.4911 - accuracy: 0.7778 - val_loss: 0.4628 - val_accuracy: 0.7760\n",
            "Epoch 79/120\n",
            "18/18 [==============================] - 0s 8ms/step - loss: 0.4907 - accuracy: 0.7778 - val_loss: 0.4623 - val_accuracy: 0.7760\n",
            "Epoch 80/120\n",
            "18/18 [==============================] - 0s 8ms/step - loss: 0.4901 - accuracy: 0.7778 - val_loss: 0.4618 - val_accuracy: 0.7760\n",
            "Epoch 81/120\n",
            "18/18 [==============================] - 0s 8ms/step - loss: 0.4897 - accuracy: 0.7760 - val_loss: 0.4612 - val_accuracy: 0.7760\n",
            "Epoch 82/120\n",
            "18/18 [==============================] - 0s 8ms/step - loss: 0.4893 - accuracy: 0.7795 - val_loss: 0.4605 - val_accuracy: 0.7760\n",
            "Epoch 83/120\n",
            "18/18 [==============================] - 0s 18ms/step - loss: 0.4887 - accuracy: 0.7795 - val_loss: 0.4602 - val_accuracy: 0.7760\n",
            "Epoch 84/120\n",
            "18/18 [==============================] - 0s 7ms/step - loss: 0.4883 - accuracy: 0.7760 - val_loss: 0.4599 - val_accuracy: 0.7812\n",
            "Epoch 85/120\n",
            "18/18 [==============================] - 0s 10ms/step - loss: 0.4880 - accuracy: 0.7778 - val_loss: 0.4593 - val_accuracy: 0.7812\n",
            "Epoch 86/120\n",
            "18/18 [==============================] - 0s 8ms/step - loss: 0.4876 - accuracy: 0.7830 - val_loss: 0.4589 - val_accuracy: 0.7812\n",
            "Epoch 87/120\n",
            "18/18 [==============================] - 0s 9ms/step - loss: 0.4872 - accuracy: 0.7812 - val_loss: 0.4587 - val_accuracy: 0.7812\n",
            "Epoch 88/120\n",
            "18/18 [==============================] - 0s 8ms/step - loss: 0.4868 - accuracy: 0.7847 - val_loss: 0.4584 - val_accuracy: 0.7865\n",
            "Epoch 89/120\n",
            "18/18 [==============================] - 0s 8ms/step - loss: 0.4864 - accuracy: 0.7830 - val_loss: 0.4580 - val_accuracy: 0.7865\n",
            "Epoch 90/120\n",
            "18/18 [==============================] - 0s 11ms/step - loss: 0.4861 - accuracy: 0.7865 - val_loss: 0.4576 - val_accuracy: 0.7865\n",
            "Epoch 91/120\n",
            "18/18 [==============================] - 0s 7ms/step - loss: 0.4859 - accuracy: 0.7865 - val_loss: 0.4571 - val_accuracy: 0.7865\n",
            "Epoch 92/120\n",
            "18/18 [==============================] - 0s 10ms/step - loss: 0.4855 - accuracy: 0.7865 - val_loss: 0.4571 - val_accuracy: 0.7865\n",
            "Epoch 93/120\n",
            "18/18 [==============================] - 0s 14ms/step - loss: 0.4853 - accuracy: 0.7865 - val_loss: 0.4569 - val_accuracy: 0.7865\n",
            "Epoch 94/120\n",
            "18/18 [==============================] - 0s 10ms/step - loss: 0.4848 - accuracy: 0.7882 - val_loss: 0.4566 - val_accuracy: 0.7865\n",
            "Epoch 95/120\n",
            "18/18 [==============================] - 0s 11ms/step - loss: 0.4847 - accuracy: 0.7882 - val_loss: 0.4563 - val_accuracy: 0.7865\n",
            "Epoch 96/120\n",
            "18/18 [==============================] - 0s 8ms/step - loss: 0.4843 - accuracy: 0.7882 - val_loss: 0.4559 - val_accuracy: 0.7865\n",
            "Epoch 97/120\n",
            "18/18 [==============================] - 0s 5ms/step - loss: 0.4839 - accuracy: 0.7865 - val_loss: 0.4555 - val_accuracy: 0.7865\n",
            "Epoch 98/120\n",
            "18/18 [==============================] - 0s 5ms/step - loss: 0.4836 - accuracy: 0.7865 - val_loss: 0.4553 - val_accuracy: 0.7865\n",
            "Epoch 99/120\n",
            "18/18 [==============================] - 0s 5ms/step - loss: 0.4834 - accuracy: 0.7865 - val_loss: 0.4553 - val_accuracy: 0.7865\n",
            "Epoch 100/120\n",
            "18/18 [==============================] - 0s 5ms/step - loss: 0.4832 - accuracy: 0.7847 - val_loss: 0.4550 - val_accuracy: 0.7865\n",
            "Epoch 101/120\n",
            "18/18 [==============================] - 0s 6ms/step - loss: 0.4828 - accuracy: 0.7847 - val_loss: 0.4547 - val_accuracy: 0.7865\n",
            "Epoch 102/120\n",
            "18/18 [==============================] - 0s 6ms/step - loss: 0.4825 - accuracy: 0.7847 - val_loss: 0.4545 - val_accuracy: 0.7865\n",
            "Epoch 103/120\n",
            "18/18 [==============================] - 0s 6ms/step - loss: 0.4824 - accuracy: 0.7847 - val_loss: 0.4544 - val_accuracy: 0.7865\n",
            "Epoch 104/120\n",
            "18/18 [==============================] - 0s 5ms/step - loss: 0.4822 - accuracy: 0.7830 - val_loss: 0.4543 - val_accuracy: 0.7865\n",
            "Epoch 105/120\n",
            "18/18 [==============================] - 0s 3ms/step - loss: 0.4822 - accuracy: 0.7830 - val_loss: 0.4542 - val_accuracy: 0.7865\n",
            "Epoch 106/120\n",
            "18/18 [==============================] - 0s 5ms/step - loss: 0.4816 - accuracy: 0.7865 - val_loss: 0.4542 - val_accuracy: 0.7865\n",
            "Epoch 107/120\n",
            "18/18 [==============================] - 0s 4ms/step - loss: 0.4813 - accuracy: 0.7847 - val_loss: 0.4536 - val_accuracy: 0.7865\n",
            "Epoch 108/120\n",
            "18/18 [==============================] - 0s 4ms/step - loss: 0.4810 - accuracy: 0.7847 - val_loss: 0.4537 - val_accuracy: 0.7865\n",
            "Epoch 109/120\n",
            "18/18 [==============================] - 0s 4ms/step - loss: 0.4808 - accuracy: 0.7847 - val_loss: 0.4532 - val_accuracy: 0.7865\n",
            "Epoch 110/120\n",
            "18/18 [==============================] - 0s 4ms/step - loss: 0.4806 - accuracy: 0.7847 - val_loss: 0.4532 - val_accuracy: 0.7865\n",
            "Epoch 111/120\n",
            "18/18 [==============================] - 0s 4ms/step - loss: 0.4804 - accuracy: 0.7847 - val_loss: 0.4530 - val_accuracy: 0.7865\n",
            "Epoch 112/120\n",
            "18/18 [==============================] - 0s 4ms/step - loss: 0.4803 - accuracy: 0.7847 - val_loss: 0.4528 - val_accuracy: 0.7865\n",
            "Epoch 113/120\n",
            "18/18 [==============================] - 0s 4ms/step - loss: 0.4799 - accuracy: 0.7847 - val_loss: 0.4527 - val_accuracy: 0.7865\n",
            "Epoch 114/120\n",
            "18/18 [==============================] - 0s 4ms/step - loss: 0.4797 - accuracy: 0.7847 - val_loss: 0.4525 - val_accuracy: 0.7865\n",
            "Epoch 115/120\n",
            "18/18 [==============================] - 0s 4ms/step - loss: 0.4795 - accuracy: 0.7847 - val_loss: 0.4526 - val_accuracy: 0.7865\n",
            "Epoch 116/120\n",
            "18/18 [==============================] - 0s 4ms/step - loss: 0.4793 - accuracy: 0.7847 - val_loss: 0.4522 - val_accuracy: 0.7865\n",
            "Epoch 117/120\n",
            "18/18 [==============================] - 0s 4ms/step - loss: 0.4793 - accuracy: 0.7847 - val_loss: 0.4521 - val_accuracy: 0.7865\n",
            "Epoch 118/120\n",
            "18/18 [==============================] - 0s 4ms/step - loss: 0.4789 - accuracy: 0.7847 - val_loss: 0.4520 - val_accuracy: 0.7865\n",
            "Epoch 119/120\n",
            "18/18 [==============================] - 0s 4ms/step - loss: 0.4786 - accuracy: 0.7830 - val_loss: 0.4520 - val_accuracy: 0.7865\n",
            "Epoch 120/120\n",
            "18/18 [==============================] - 0s 4ms/step - loss: 0.4785 - accuracy: 0.7830 - val_loss: 0.4521 - val_accuracy: 0.7865\n"
          ]
        }
      ]
    },
    {
      "cell_type": "markdown",
      "source": [
        "#**Evaluate the Model**"
      ],
      "metadata": {
        "id": "Sb996_yGu6cl"
      }
    },
    {
      "cell_type": "code",
      "source": [
        "# plot loss vs epochs\n",
        "epochRange = range(1,epochs+1);\n",
        "plt.plot(epochRange,history.history['loss'])\n",
        "plt.plot(epochRange,history.history['val_loss'])\n",
        "plt.xlabel('Epoch')\n",
        "plt.ylabel('Loss')\n",
        "plt.grid()\n",
        "plt.xlim((1,epochs))\n",
        "plt.legend(['Train','Test'])\n",
        "plt.show()"
      ],
      "metadata": {
        "id": "SUS1fZ5nvF3U",
        "outputId": "34bb80a2-b0ff-410a-9f3e-5e5745749835",
        "colab": {
          "base_uri": "https://localhost:8080/",
          "height": 449
        }
      },
      "execution_count": null,
      "outputs": [
        {
          "output_type": "display_data",
          "data": {
            "text/plain": [
              "<Figure size 640x480 with 1 Axes>"
            ],
            "image/png": "[encoded data removed]"
          },
          "metadata": {}
        }
      ]
    },
    {
      "cell_type": "code",
      "source": [
        "# Plot accuracy vs epochs (DIY)\n",
        "plt.plot(epochRange, history.history['accuracy'])\n",
        "plt.plot(epochRange, history.history['val_accuracy'])\n",
        "plt.xlabel('Epoch')\n",
        "plt.ylabel('Accuracy')\n",
        "plt.grid()\n",
        "plt.xlim((1,epochs))\n",
        "plt.legend(['Train', 'Test'])\n",
        "plt.show()"
      ],
      "metadata": {
        "id": "Z08lfMC5v0wk",
        "outputId": "4dad071d-be5e-4f41-9ef4-544ceba250c9",
        "colab": {
          "base_uri": "https://localhost:8080/",
          "height": 449
        }
      },
      "execution_count": null,
      "outputs": [
        {
          "output_type": "display_data",
          "data": {
            "text/plain": [
              "<Figure size 640x480 with 1 Axes>"
            ],
            "image/png": "[encoded data removed]"
          },
          "metadata": {}
        }
      ]
    },
    {
      "cell_type": "code",
      "metadata": {
        "id": "FlT5Vst5h16C",
        "outputId": "a7e4fed1-0e05-4010-ce5a-29907d9f1db4",
        "colab": {
          "base_uri": "https://localhost:8080/"
        }
      },
      "source": [
        "# Test, Loss and accuracy\n",
        "loss_and_metrics = basic_model.evaluate(X_test, y_test)\n",
        "print('Loss = ',loss_and_metrics[0])\n",
        "print('Accuracy = ',loss_and_metrics[1])"
      ],
      "execution_count": null,
      "outputs": [
        {
          "output_type": "stream",
          "name": "stdout",
          "text": [
            "6/6 [==============================] - 0s 3ms/step - loss: 0.4521 - accuracy: 0.7865\n",
            "Loss =  0.452068954706192\n",
            "Accuracy =  0.7864583134651184\n"
          ]
        }
      ]
    },
    {
      "cell_type": "markdown",
      "source": [
        "## Classification Model Performance measures\n",
        "\n",
        "<img src='https://editor.analyticsvidhya.com/uploads/99666confusion%20matrix.JPG' width=40%>"
      ],
      "metadata": {
        "id": "rs-Eo3bFwsl_"
      }
    },
    {
      "cell_type": "code",
      "source": [
        "y_pred = basic_model.predict(X_test)\n",
        "print(y_test[:5])\n",
        "print(y_pred[:5])"
      ],
      "metadata": {
        "id": "G8j6D_uvwu1p",
        "outputId": "b5eaa0ca-8b39-44cd-9d61-8359d10555b3",
        "colab": {
          "base_uri": "https://localhost:8080/"
        }
      },
      "execution_count": null,
      "outputs": [
        {
          "output_type": "stream",
          "name": "stdout",
          "text": [
            "6/6 [==============================] - 0s 3ms/step\n",
            "661    1\n",
            "122    0\n",
            "113    0\n",
            "14     1\n",
            "529    0\n",
            "Name: 8, dtype: int64\n",
            "[[0.77858526]\n",
            " [0.12162784]\n",
            " [0.09794389]\n",
            " [0.7211923 ]\n",
            " [0.13421191]]\n"
          ]
        }
      ]
    },
    {
      "cell_type": "code",
      "source": [
        "y_pred =[1 if y_pred[aa]>=0.5 else 0 for aa in range(len(y_pred)) ]\n",
        "print(y_pred[:5])"
      ],
      "metadata": {
        "id": "9Dg5IIQNx2Wy",
        "outputId": "fee17322-4b8e-490c-952f-186c6183b173",
        "colab": {
          "base_uri": "https://localhost:8080/"
        }
      },
      "execution_count": null,
      "outputs": [
        {
          "output_type": "stream",
          "name": "stdout",
          "text": [
            "[1, 0, 0, 1, 0]\n"
          ]
        }
      ]
    },
    {
      "cell_type": "code",
      "metadata": {
        "id": "BtqHcIgEkn0l",
        "outputId": "c158610f-94a7-4b8a-aee1-d57a621e7d97",
        "colab": {
          "base_uri": "https://localhost:8080/"
        }
      },
      "source": [
        "print(sklearn.metrics.classification_report(y_test, y_pred))"
      ],
      "execution_count": null,
      "outputs": [
        {
          "output_type": "stream",
          "name": "stdout",
          "text": [
            "              precision    recall  f1-score   support\n",
            "\n",
            "           0       0.83      0.86      0.85       130\n",
            "           1       0.68      0.63      0.66        62\n",
            "\n",
            "    accuracy                           0.79       192\n",
            "   macro avg       0.76      0.75      0.75       192\n",
            "weighted avg       0.78      0.79      0.78       192\n",
            "\n"
          ]
        }
      ]
    },
    {
      "cell_type": "code",
      "source": [],
      "metadata": {
        "id": "FA_8UxqZY_pR"
      },
      "execution_count": null,
      "outputs": []
    }
  ]
}